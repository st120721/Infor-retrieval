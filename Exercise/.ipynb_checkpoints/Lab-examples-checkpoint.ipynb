{
 "cells": [
  {
   "cell_type": "markdown",
   "metadata": {},
   "source": [
    "## Array Shape"
   ]
  },
  {
   "cell_type": "code",
   "execution_count": 24,
   "metadata": {},
   "outputs": [],
   "source": [
    "import numpy as np"
   ]
  },
  {
   "cell_type": "code",
   "execution_count": 25,
   "metadata": {},
   "outputs": [],
   "source": [
    "def print_np_array_details(arr):\n",
    "    print(\"ARRAY:\\n{}\\nSIZE={} and SHAPE={}\\n\".format(arr, arr.size, arr.shape))"
   ]
  },
  {
   "cell_type": "code",
   "execution_count": 26,
   "metadata": {},
   "outputs": [
    {
     "data": {
      "text/plain": [
       "6"
      ]
     },
     "execution_count": 26,
     "metadata": {},
     "output_type": "execute_result"
    }
   ],
   "source": [
    "simple_1d_list = [1, 2, 3, 4, 5, 6]\n",
    "len(simple_1d_list)\n"
   ]
  },
  {
   "cell_type": "code",
   "execution_count": 27,
   "metadata": {},
   "outputs": [
    {
     "name": "stdout",
     "output_type": "stream",
     "text": [
      "ARRAY:\n",
      "[1 2 3 4 5 6]\n",
      "SIZE=6 and SHAPE=(6,)\n",
      "\n"
     ]
    }
   ],
   "source": [
    "simple_1d_array = np.array(simple_1d_list)\n",
    "print_np_array_details(simple_1d_array)"
   ]
  },
  {
   "cell_type": "code",
   "execution_count": 28,
   "metadata": {},
   "outputs": [
    {
     "data": {
      "text/plain": [
       "3"
      ]
     },
     "execution_count": 28,
     "metadata": {},
     "output_type": "execute_result"
    }
   ],
   "source": [
    "simple_2d_list = [\n",
    "    [0, 1, 2, 3],\n",
    "    [4, 5, 6, 7],\n",
    "    [8, 9, 10, 11]\n",
    "]\n",
    "len(simple_2d_list)"
   ]
  },
  {
   "cell_type": "code",
   "execution_count": 29,
   "metadata": {},
   "outputs": [
    {
     "name": "stdout",
     "output_type": "stream",
     "text": [
      "ARRAY:\n",
      "[[ 0  1  2  3]\n",
      " [ 4  5  6  7]\n",
      " [ 8  9 10 11]]\n",
      "SIZE=12 and SHAPE=(3, 4)\n",
      "\n"
     ]
    }
   ],
   "source": [
    "simple_2d_array = np.array(simple_2d_list)\n",
    "print_np_array_details(simple_2d_array)"
   ]
  },
  {
   "cell_type": "markdown",
   "metadata": {},
   "source": [
    "#### Let's revisit simple 1d array case!"
   ]
  },
  {
   "cell_type": "code",
   "execution_count": 30,
   "metadata": {},
   "outputs": [
    {
     "data": {
      "text/plain": [
       "(6,)"
      ]
     },
     "execution_count": 30,
     "metadata": {},
     "output_type": "execute_result"
    }
   ],
   "source": [
    "simple_1d_array.shape"
   ]
  },
  {
   "cell_type": "code",
   "execution_count": 31,
   "metadata": {},
   "outputs": [
    {
     "name": "stdout",
     "output_type": "stream",
     "text": [
      "ARRAY:\n",
      "[[1 2 3 4 5 6]]\n",
      "SIZE=6 and SHAPE=(1, 6)\n",
      "\n",
      "ARRAY:\n",
      "[[1 2 3 4 5 6]]\n",
      "SIZE=6 and SHAPE=(1, 6)\n",
      "\n",
      "ARRAY:\n",
      "[[1 2 3 4 5 6]]\n",
      "SIZE=6 and SHAPE=(1, 6)\n",
      "\n",
      "ARRAY:\n",
      "[[1 2 3 4 5 6]]\n",
      "SIZE=6 and SHAPE=(1, 6)\n",
      "\n"
     ]
    }
   ],
   "source": [
    "explicit_1d_array_way1 = np.array(simple_1d_list, ndmin=2)\n",
    "explicit_1d_array_way2 = np.array(simple_1d_list).reshape(1, -1)\n",
    "explicit_1d_array_way3 = np.array(simple_1d_list)[np.newaxis,:]\n",
    "explicit_1d_array_way4 = np.array(simple_1d_list)[None,:]\n",
    "\n",
    "\n",
    "print_np_array_details(explicit_1d_array_way1)\n",
    "print_np_array_details(explicit_1d_array_way2)\n",
    "print_np_array_details(explicit_1d_array_way3)\n",
    "print_np_array_details(explicit_1d_array_way4)\n"
   ]
  },
  {
   "cell_type": "markdown",
   "metadata": {},
   "source": [
    "## Array Indexing"
   ]
  },
  {
   "cell_type": "markdown",
   "metadata": {},
   "source": [
    "### Single Element"
   ]
  },
  {
   "cell_type": "code",
   "execution_count": 32,
   "metadata": {},
   "outputs": [
    {
     "name": "stdout",
     "output_type": "stream",
     "text": [
      "ARRAY:\n",
      "[[ 1  2  3  4]\n",
      " [ 5  6  7  8]\n",
      " [ 9 10 11 12]\n",
      " [13 14 15 16]]\n",
      "SIZE=16 and SHAPE=(4, 4)\n",
      "\n"
     ]
    }
   ],
   "source": [
    "x = np.arange(1,17).reshape(4, 4)\n",
    "print_np_array_details(x)"
   ]
  },
  {
   "cell_type": "code",
   "execution_count": 33,
   "metadata": {},
   "outputs": [
    {
     "name": "stdout",
     "output_type": "stream",
     "text": [
      "ARRAY:\n",
      "7\n",
      "SIZE=1 and SHAPE=()\n",
      "\n"
     ]
    }
   ],
   "source": [
    "print_np_array_details(x[1,2])"
   ]
  },
  {
   "cell_type": "code",
   "execution_count": 34,
   "metadata": {},
   "outputs": [
    {
     "name": "stdout",
     "output_type": "stream",
     "text": [
      "ARRAY:\n",
      "7\n",
      "SIZE=1 and SHAPE=()\n",
      "\n"
     ]
    }
   ],
   "source": [
    "print_np_array_details(x[(1,2)])"
   ]
  },
  {
   "cell_type": "markdown",
   "metadata": {},
   "source": [
    "### Multiple Elements "
   ]
  },
  {
   "cell_type": "code",
   "execution_count": 51,
   "metadata": {},
   "outputs": [
    {
     "name": "stdout",
     "output_type": "stream",
     "text": [
      "ARRAY:\n",
      "[1 2 3 4 5 6]\n",
      "SIZE=6 and SHAPE=(6,)\n",
      "\n",
      "ARRAY:\n",
      "[1 3 5]\n",
      "SIZE=3 and SHAPE=(3,)\n",
      "\n",
      "ARRAY:\n",
      "[1 3 5]\n",
      "SIZE=3 and SHAPE=(3,)\n",
      "\n"
     ]
    }
   ],
   "source": [
    "print_np_array_details(simple_1d_array)\n",
    "print_np_array_details(simple_1d_array[0:6:2])\n",
    "print_np_array_details(simple_1d_array[::2])"
   ]
  },
  {
   "cell_type": "code",
   "execution_count": 12,
   "metadata": {},
   "outputs": [
    {
     "name": "stdout",
     "output_type": "stream",
     "text": [
      "ARRAY:\n",
      "[ 6 12]\n",
      "SIZE=2 and SHAPE=(2,)\n",
      "\n"
     ]
    }
   ],
   "source": [
    "print_np_array_details(x[(1,2),(1,3)])"
   ]
  },
  {
   "cell_type": "code",
   "execution_count": 35,
   "metadata": {},
   "outputs": [
    {
     "name": "stdout",
     "output_type": "stream",
     "text": [
      "ARRAY:\n",
      "[5 6 7 8]\n",
      "SIZE=4 and SHAPE=(4,)\n",
      "\n"
     ]
    }
   ],
   "source": [
    "print_np_array_details(x[(1, 1, 1, 1),(0, 1, 2, 3)])"
   ]
  },
  {
   "cell_type": "code",
   "execution_count": 14,
   "metadata": {},
   "outputs": [
    {
     "name": "stdout",
     "output_type": "stream",
     "text": [
      "ARRAY:\n",
      "[5 6 7 8]\n",
      "SIZE=4 and SHAPE=(4,)\n",
      "\n"
     ]
    }
   ],
   "source": [
    "print_np_array_details(x[1])"
   ]
  },
  {
   "cell_type": "code",
   "execution_count": 36,
   "metadata": {},
   "outputs": [
    {
     "name": "stdout",
     "output_type": "stream",
     "text": [
      "ARRAY:\n",
      "[5 6 7 8]\n",
      "SIZE=4 and SHAPE=(4,)\n",
      "\n"
     ]
    }
   ],
   "source": [
    "print_np_array_details(x[1,:])"
   ]
  },
  {
   "cell_type": "code",
   "execution_count": 37,
   "metadata": {},
   "outputs": [
    {
     "name": "stdout",
     "output_type": "stream",
     "text": [
      "ARRAY:\n",
      "[[5 6 7 8]]\n",
      "SIZE=4 and SHAPE=(1, 4)\n",
      "\n"
     ]
    }
   ],
   "source": [
    "print_np_array_details(x[1:2])"
   ]
  },
  {
   "cell_type": "code",
   "execution_count": 38,
   "metadata": {},
   "outputs": [
    {
     "name": "stdout",
     "output_type": "stream",
     "text": [
      "ARRAY:\n",
      "[[5 6 7 8]]\n",
      "SIZE=4 and SHAPE=(1, 4)\n",
      "\n"
     ]
    }
   ],
   "source": [
    "print_np_array_details(x[1:2,:])"
   ]
  },
  {
   "cell_type": "code",
   "execution_count": 39,
   "metadata": {},
   "outputs": [
    {
     "name": "stdout",
     "output_type": "stream",
     "text": [
      "ARRAY:\n",
      "[[1 2 3 4]\n",
      " [5 6 7 8]]\n",
      "SIZE=8 and SHAPE=(2, 4)\n",
      "\n"
     ]
    }
   ],
   "source": [
    "print_np_array_details(x[0:2:1])"
   ]
  },
  {
   "cell_type": "code",
   "execution_count": 40,
   "metadata": {},
   "outputs": [
    {
     "name": "stdout",
     "output_type": "stream",
     "text": [
      "ARRAY:\n",
      "[[1 2 3 4]\n",
      " [5 6 7 8]]\n",
      "SIZE=8 and SHAPE=(2, 4)\n",
      "\n"
     ]
    }
   ],
   "source": [
    "print_np_array_details(x[0:2:1,:])"
   ]
  },
  {
   "cell_type": "code",
   "execution_count": 41,
   "metadata": {},
   "outputs": [
    {
     "name": "stdout",
     "output_type": "stream",
     "text": [
      "ARRAY:\n",
      "[[ 1  3]\n",
      " [ 5  7]\n",
      " [ 9 11]\n",
      " [13 15]]\n",
      "SIZE=8 and SHAPE=(4, 2)\n",
      "\n"
     ]
    }
   ],
   "source": [
    "print_np_array_details(x[:,0:4:2])"
   ]
  },
  {
   "cell_type": "code",
   "execution_count": 42,
   "metadata": {},
   "outputs": [
    {
     "name": "stdout",
     "output_type": "stream",
     "text": [
      "ARRAY:\n",
      "[[5 6 7 8]]\n",
      "SIZE=4 and SHAPE=(1, 4)\n",
      "\n"
     ]
    }
   ],
   "source": [
    "print_np_array_details(x[[1]])"
   ]
  },
  {
   "cell_type": "code",
   "execution_count": 43,
   "metadata": {},
   "outputs": [
    {
     "name": "stdout",
     "output_type": "stream",
     "text": [
      "ARRAY:\n",
      "[[ 5  6  7  8]\n",
      " [ 9 10 11 12]]\n",
      "SIZE=8 and SHAPE=(2, 4)\n",
      "\n"
     ]
    }
   ],
   "source": [
    "print_np_array_details(x[[1, 2]])"
   ]
  },
  {
   "cell_type": "code",
   "execution_count": 44,
   "metadata": {},
   "outputs": [
    {
     "name": "stdout",
     "output_type": "stream",
     "text": [
      "ARRAY:\n",
      "[5 6 7]\n",
      "SIZE=3 and SHAPE=(3,)\n",
      "\n"
     ]
    }
   ],
   "source": [
    "print_np_array_details(x[1, [0, 1, 2]])"
   ]
  },
  {
   "cell_type": "code",
   "execution_count": 45,
   "metadata": {},
   "outputs": [
    {
     "name": "stdout",
     "output_type": "stream",
     "text": [
      "ARRAY:\n",
      "[5 6 7]\n",
      "SIZE=3 and SHAPE=(3,)\n",
      "\n"
     ]
    }
   ],
   "source": [
    "print_np_array_details(x[[1], [0, 1, 2]])"
   ]
  },
  {
   "cell_type": "code",
   "execution_count": 46,
   "metadata": {},
   "outputs": [
    {
     "name": "stdout",
     "output_type": "stream",
     "text": [
      "ARRAY:\n",
      "[[5 6 7]]\n",
      "SIZE=3 and SHAPE=(1, 3)\n",
      "\n"
     ]
    }
   ],
   "source": [
    "print_np_array_details(x[[[1]], [0, 1, 2]])"
   ]
  },
  {
   "cell_type": "code",
   "execution_count": 47,
   "metadata": {},
   "outputs": [
    {
     "name": "stdout",
     "output_type": "stream",
     "text": [
      "ARRAY:\n",
      "[[ 5  6  7]\n",
      " [ 9 10 11]]\n",
      "SIZE=6 and SHAPE=(2, 3)\n",
      "\n"
     ]
    }
   ],
   "source": [
    "print_np_array_details(x[[[1], [2]], [0, 1, 2]])"
   ]
  },
  {
   "cell_type": "code",
   "execution_count": 48,
   "metadata": {},
   "outputs": [
    {
     "name": "stdout",
     "output_type": "stream",
     "text": [
      "ARRAY:\n",
      "[[ 5  6  7]\n",
      " [ 9 10 11]]\n",
      "SIZE=6 and SHAPE=(2, 3)\n",
      "\n"
     ]
    }
   ],
   "source": [
    "ind_i = np.array([1, 2]).reshape(2, 1)\n",
    "ind_j = np.array([0, 1, 2])\n",
    "print_np_array_details(x[ind_i, ind_j])"
   ]
  },
  {
   "cell_type": "code",
   "execution_count": 183,
   "metadata": {},
   "outputs": [
    {
     "name": "stdout",
     "output_type": "stream",
     "text": [
      "ARRAY:\n",
      "[1 2]\n",
      "SIZE=2 and SHAPE=(2,)\n",
      "\n",
      "ARRAY:\n",
      "[[1 2]]\n",
      "SIZE=2 and SHAPE=(1, 2)\n",
      "\n",
      "ARRAY:\n",
      "[[1]\n",
      " [2]]\n",
      "SIZE=2 and SHAPE=(2, 1)\n",
      "\n",
      "ARRAY:\n",
      "[[ 5  6  7]\n",
      " [ 9 10 11]]\n",
      "SIZE=6 and SHAPE=(2, 3)\n",
      "\n"
     ]
    }
   ],
   "source": [
    "ind_i = np.array([1, 2])\n",
    "print_np_array_details(ind_i)\n",
    "print_np_array_details(ind_i[None,:])\n",
    "print_np_array_details(ind_i[:,None])\n",
    "print_np_array_details(x[ind_i[:,None], ind_j])"
   ]
  },
  {
   "cell_type": "markdown",
   "metadata": {},
   "source": [
    "### Indexing through boolean matrix"
   ]
  },
  {
   "cell_type": "code",
   "execution_count": 50,
   "metadata": {},
   "outputs": [
    {
     "name": "stdout",
     "output_type": "stream",
     "text": [
      "ARRAY:\n",
      "[[False False False  True]\n",
      " [False  True  True False]\n",
      " [False  True False False]\n",
      " [False  True False  True]]\n",
      "SIZE=16 and SHAPE=(4, 4)\n",
      "\n",
      "ARRAY:\n",
      "[ 4  6  7 10 14 16]\n",
      "SIZE=6 and SHAPE=(6,)\n",
      "\n"
     ]
    }
   ],
   "source": [
    "b = np.random.randn(4, 4) > 0.5\n",
    "print_np_array_details(b)\n",
    "print_np_array_details(x[b])"
   ]
  },
  {
   "cell_type": "code",
   "execution_count": null,
   "metadata": {},
   "outputs": [],
   "source": []
  }
 ],
 "metadata": {
  "kernelspec": {
   "display_name": "Python (ML)",
   "language": "python",
   "name": "ml"
  },
  "language_info": {
   "codemirror_mode": {
    "name": "ipython",
    "version": 3
   },
   "file_extension": ".py",
   "mimetype": "text/x-python",
   "name": "python",
   "nbconvert_exporter": "python",
   "pygments_lexer": "ipython3",
   "version": "3.6.8"
  }
 },
 "nbformat": 4,
 "nbformat_minor": 2
}
